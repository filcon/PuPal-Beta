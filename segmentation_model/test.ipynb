{
 "cells": [
  {
   "cell_type": "markdown",
   "metadata": {},
   "source": [
    "## Test Model"
   ]
  },
  {
   "cell_type": "code",
   "execution_count": null,
   "metadata": {},
   "outputs": [],
   "source": [
    "from model import *\n",
    "from data import *\n",
    "\n",
    "test_path = \"\" # insert path to directory containing the raw images to test\n",
    "test_result_path = \"\" # insert path to directory where you want to save the results of the test\n",
    "model_weights = \"\" #insert the path+filename.h5 of the trained model\n",
    "num_images =  # insert the number of images present in the directory\n",
    "\n",
    "testGene = testGenerator(test_path, num_image = num_images)\n",
    "\n",
    "model = unet()\n",
    "\n",
    "model.load_weights(model.weights) \n",
    "\n",
    "results = model.predict_generator(testGene, num_images,verbose=1);\n",
    "saveResult(test_result_path, results,savename_list=None)"
   ]
  }
 ],
 "metadata": {
  "kernelspec": {
   "display_name": "Python 3",
   "language": "python",
   "name": "python3"
  },
  "language_info": {
   "codemirror_mode": {
    "name": "ipython",
    "version": 3
   },
   "file_extension": ".py",
   "mimetype": "text/x-python",
   "name": "python",
   "nbconvert_exporter": "python",
   "pygments_lexer": "ipython3",
   "version": "3.7.1"
  }
 },
 "nbformat": 4,
 "nbformat_minor": 2
}
